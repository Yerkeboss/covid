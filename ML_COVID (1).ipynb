{
 "cells": [
  {
   "cell_type": "code",
   "execution_count": 1,
   "id": "9eef1637",
   "metadata": {},
   "outputs": [],
   "source": [
    "import pandas as pd\n",
    "import numpy as np\n",
    "import matplotlib.pyplot as plt\n",
    "import seaborn as sns"
   ]
  },
  {
   "cell_type": "code",
   "execution_count": 2,
   "id": "93f0521b",
   "metadata": {},
   "outputs": [
    {
     "data": {
      "text/html": [
       "<div>\n",
       "<style scoped>\n",
       "    .dataframe tbody tr th:only-of-type {\n",
       "        vertical-align: middle;\n",
       "    }\n",
       "\n",
       "    .dataframe tbody tr th {\n",
       "        vertical-align: top;\n",
       "    }\n",
       "\n",
       "    .dataframe thead th {\n",
       "        text-align: right;\n",
       "    }\n",
       "</style>\n",
       "<table border=\"1\" class=\"dataframe\">\n",
       "  <thead>\n",
       "    <tr style=\"text-align: right;\">\n",
       "      <th></th>\n",
       "      <th>Unnamed: 0</th>\n",
       "      <th>FIPS</th>\n",
       "      <th>State</th>\n",
       "      <th>County</th>\n",
       "      <th>Severe COVID Case Complications</th>\n",
       "      <th>covid_cases</th>\n",
       "      <th>% Adults 65 and Older</th>\n",
       "      <th>% Diagnosed Diabetes</th>\n",
       "      <th>% Adults with Obesity</th>\n",
       "      <th>Heart Disease Death Rate</th>\n",
       "      <th>Hypertension Death Rate</th>\n",
       "      <th>COPD Mortality Rate</th>\n",
       "      <th>% Smokers</th>\n",
       "    </tr>\n",
       "  </thead>\n",
       "  <tbody>\n",
       "    <tr>\n",
       "      <th>0</th>\n",
       "      <td>0</td>\n",
       "      <td>1001</td>\n",
       "      <td>Alabama</td>\n",
       "      <td>Autauga</td>\n",
       "      <td>51.721197</td>\n",
       "      <td>9012</td>\n",
       "      <td>15.973</td>\n",
       "      <td>11.4</td>\n",
       "      <td>32.7</td>\n",
       "      <td>388.7</td>\n",
       "      <td>179.6</td>\n",
       "      <td>73.41</td>\n",
       "      <td>18.081557</td>\n",
       "    </tr>\n",
       "    <tr>\n",
       "      <th>1</th>\n",
       "      <td>1</td>\n",
       "      <td>1003</td>\n",
       "      <td>Alabama</td>\n",
       "      <td>Baldwin</td>\n",
       "      <td>39.964354</td>\n",
       "      <td>34063</td>\n",
       "      <td>20.978</td>\n",
       "      <td>8.2</td>\n",
       "      <td>30.1</td>\n",
       "      <td>362.6</td>\n",
       "      <td>143.4</td>\n",
       "      <td>45.27</td>\n",
       "      <td>17.489033</td>\n",
       "    </tr>\n",
       "    <tr>\n",
       "      <th>2</th>\n",
       "      <td>2</td>\n",
       "      <td>1005</td>\n",
       "      <td>Alabama</td>\n",
       "      <td>Barbour</td>\n",
       "      <td>71.258434</td>\n",
       "      <td>3184</td>\n",
       "      <td>19.691</td>\n",
       "      <td>15.1</td>\n",
       "      <td>41.2</td>\n",
       "      <td>444.3</td>\n",
       "      <td>217.2</td>\n",
       "      <td>60.07</td>\n",
       "      <td>21.999985</td>\n",
       "    </tr>\n",
       "    <tr>\n",
       "      <th>3</th>\n",
       "      <td>3</td>\n",
       "      <td>1007</td>\n",
       "      <td>Alabama</td>\n",
       "      <td>Bibb</td>\n",
       "      <td>59.971356</td>\n",
       "      <td>3628</td>\n",
       "      <td>16.670</td>\n",
       "      <td>12.2</td>\n",
       "      <td>37.4</td>\n",
       "      <td>491.8</td>\n",
       "      <td>143.3</td>\n",
       "      <td>75.08</td>\n",
       "      <td>19.114200</td>\n",
       "    </tr>\n",
       "    <tr>\n",
       "      <th>4</th>\n",
       "      <td>4</td>\n",
       "      <td>1009</td>\n",
       "      <td>Alabama</td>\n",
       "      <td>Blount</td>\n",
       "      <td>56.204965</td>\n",
       "      <td>8862</td>\n",
       "      <td>18.701</td>\n",
       "      <td>12.2</td>\n",
       "      <td>32.5</td>\n",
       "      <td>437.9</td>\n",
       "      <td>112.4</td>\n",
       "      <td>78.32</td>\n",
       "      <td>19.208672</td>\n",
       "    </tr>\n",
       "  </tbody>\n",
       "</table>\n",
       "</div>"
      ],
      "text/plain": [
       "   Unnamed: 0  FIPS    State   County  Severe COVID Case Complications  \\\n",
       "0           0  1001  Alabama  Autauga                        51.721197   \n",
       "1           1  1003  Alabama  Baldwin                        39.964354   \n",
       "2           2  1005  Alabama  Barbour                        71.258434   \n",
       "3           3  1007  Alabama     Bibb                        59.971356   \n",
       "4           4  1009  Alabama   Blount                        56.204965   \n",
       "\n",
       "   covid_cases  % Adults 65 and Older  % Diagnosed Diabetes  \\\n",
       "0         9012                 15.973                  11.4   \n",
       "1        34063                 20.978                   8.2   \n",
       "2         3184                 19.691                  15.1   \n",
       "3         3628                 16.670                  12.2   \n",
       "4         8862                 18.701                  12.2   \n",
       "\n",
       "   % Adults with Obesity  Heart Disease Death Rate  Hypertension Death Rate  \\\n",
       "0                   32.7                     388.7                    179.6   \n",
       "1                   30.1                     362.6                    143.4   \n",
       "2                   41.2                     444.3                    217.2   \n",
       "3                   37.4                     491.8                    143.3   \n",
       "4                   32.5                     437.9                    112.4   \n",
       "\n",
       "   COPD Mortality Rate  % Smokers  \n",
       "0                73.41  18.081557  \n",
       "1                45.27  17.489033  \n",
       "2                60.07  21.999985  \n",
       "3                75.08  19.114200  \n",
       "4                78.32  19.208672  "
      ]
     },
     "execution_count": 2,
     "metadata": {},
     "output_type": "execute_result"
    }
   ],
   "source": [
    "df = pd.read_csv('severe_cases_score_data.csv')\n",
    "df.head()"
   ]
  },
  {
   "cell_type": "code",
   "execution_count": 3,
   "id": "82306149",
   "metadata": {},
   "outputs": [
    {
     "data": {
      "text/plain": [
       "Unnamed: 0                         0\n",
       "FIPS                               0\n",
       "State                              0\n",
       "County                             0\n",
       "Severe COVID Case Complications    0\n",
       "covid_cases                        0\n",
       "% Adults 65 and Older              0\n",
       "% Diagnosed Diabetes               0\n",
       "% Adults with Obesity              0\n",
       "Heart Disease Death Rate           0\n",
       "Hypertension Death Rate            0\n",
       "COPD Mortality Rate                0\n",
       "% Smokers                          0\n",
       "dtype: int64"
      ]
     },
     "execution_count": 3,
     "metadata": {},
     "output_type": "execute_result"
    }
   ],
   "source": [
    "df.isnull().sum()"
   ]
  },
  {
   "cell_type": "code",
   "execution_count": 4,
   "id": "d351638a",
   "metadata": {},
   "outputs": [
    {
     "data": {
      "text/plain": [
       "0"
      ]
     },
     "execution_count": 4,
     "metadata": {},
     "output_type": "execute_result"
    }
   ],
   "source": [
    "df.duplicated().sum()"
   ]
  },
  {
   "cell_type": "code",
   "execution_count": 5,
   "id": "8b86307e",
   "metadata": {},
   "outputs": [
    {
     "name": "stdout",
     "output_type": "stream",
     "text": [
      "<class 'pandas.core.frame.DataFrame'>\n",
      "RangeIndex: 3142 entries, 0 to 3141\n",
      "Data columns (total 13 columns):\n",
      " #   Column                           Non-Null Count  Dtype  \n",
      "---  ------                           --------------  -----  \n",
      " 0   Unnamed: 0                       3142 non-null   int64  \n",
      " 1   FIPS                             3142 non-null   int64  \n",
      " 2   State                            3142 non-null   object \n",
      " 3   County                           3142 non-null   object \n",
      " 4   Severe COVID Case Complications  3142 non-null   float64\n",
      " 5   covid_cases                      3142 non-null   int64  \n",
      " 6   % Adults 65 and Older            3142 non-null   float64\n",
      " 7   % Diagnosed Diabetes             3142 non-null   float64\n",
      " 8   % Adults with Obesity            3142 non-null   float64\n",
      " 9   Heart Disease Death Rate         3142 non-null   float64\n",
      " 10  Hypertension Death Rate          3142 non-null   float64\n",
      " 11  COPD Mortality Rate              3142 non-null   float64\n",
      " 12  % Smokers                        3142 non-null   float64\n",
      "dtypes: float64(8), int64(3), object(2)\n",
      "memory usage: 319.2+ KB\n"
     ]
    }
   ],
   "source": [
    "df.info()"
   ]
  },
  {
   "cell_type": "code",
   "execution_count": 6,
   "id": "4f79d460",
   "metadata": {},
   "outputs": [
    {
     "data": {
      "text/plain": [
       "Index(['Unnamed: 0', 'FIPS', 'State', 'County',\n",
       "       'Severe COVID Case Complications', 'covid_cases',\n",
       "       '% Adults 65 and Older', '% Diagnosed Diabetes',\n",
       "       '% Adults with Obesity', 'Heart Disease Death Rate',\n",
       "       'Hypertension Death Rate', 'COPD Mortality Rate', '% Smokers'],\n",
       "      dtype='object')"
      ]
     },
     "execution_count": 6,
     "metadata": {},
     "output_type": "execute_result"
    }
   ],
   "source": [
    "df.columns"
   ]
  },
  {
   "cell_type": "code",
   "execution_count": 7,
   "id": "3b0d38a5",
   "metadata": {},
   "outputs": [
    {
     "data": {
      "text/html": [
       "<div>\n",
       "<style scoped>\n",
       "    .dataframe tbody tr th:only-of-type {\n",
       "        vertical-align: middle;\n",
       "    }\n",
       "\n",
       "    .dataframe tbody tr th {\n",
       "        vertical-align: top;\n",
       "    }\n",
       "\n",
       "    .dataframe thead th {\n",
       "        text-align: right;\n",
       "    }\n",
       "</style>\n",
       "<table border=\"1\" class=\"dataframe\">\n",
       "  <thead>\n",
       "    <tr style=\"text-align: right;\">\n",
       "      <th></th>\n",
       "      <th>Severe COVID Case Complications</th>\n",
       "      <th>covid_cases</th>\n",
       "      <th>% Adults 65 and Older</th>\n",
       "      <th>% Diagnosed Diabetes</th>\n",
       "      <th>% Adults with Obesity</th>\n",
       "      <th>Heart Disease Death Rate</th>\n",
       "      <th>Hypertension Death Rate</th>\n",
       "      <th>COPD Mortality Rate</th>\n",
       "      <th>% Smokers</th>\n",
       "    </tr>\n",
       "  </thead>\n",
       "  <tbody>\n",
       "    <tr>\n",
       "      <th>0</th>\n",
       "      <td>51.721197</td>\n",
       "      <td>9012</td>\n",
       "      <td>15.973</td>\n",
       "      <td>11.4</td>\n",
       "      <td>32.7</td>\n",
       "      <td>388.7</td>\n",
       "      <td>179.6</td>\n",
       "      <td>73.41</td>\n",
       "      <td>18.081557</td>\n",
       "    </tr>\n",
       "    <tr>\n",
       "      <th>1</th>\n",
       "      <td>39.964354</td>\n",
       "      <td>34063</td>\n",
       "      <td>20.978</td>\n",
       "      <td>8.2</td>\n",
       "      <td>30.1</td>\n",
       "      <td>362.6</td>\n",
       "      <td>143.4</td>\n",
       "      <td>45.27</td>\n",
       "      <td>17.489033</td>\n",
       "    </tr>\n",
       "    <tr>\n",
       "      <th>2</th>\n",
       "      <td>71.258434</td>\n",
       "      <td>3184</td>\n",
       "      <td>19.691</td>\n",
       "      <td>15.1</td>\n",
       "      <td>41.2</td>\n",
       "      <td>444.3</td>\n",
       "      <td>217.2</td>\n",
       "      <td>60.07</td>\n",
       "      <td>21.999985</td>\n",
       "    </tr>\n",
       "    <tr>\n",
       "      <th>3</th>\n",
       "      <td>59.971356</td>\n",
       "      <td>3628</td>\n",
       "      <td>16.670</td>\n",
       "      <td>12.2</td>\n",
       "      <td>37.4</td>\n",
       "      <td>491.8</td>\n",
       "      <td>143.3</td>\n",
       "      <td>75.08</td>\n",
       "      <td>19.114200</td>\n",
       "    </tr>\n",
       "    <tr>\n",
       "      <th>4</th>\n",
       "      <td>56.204965</td>\n",
       "      <td>8862</td>\n",
       "      <td>18.701</td>\n",
       "      <td>12.2</td>\n",
       "      <td>32.5</td>\n",
       "      <td>437.9</td>\n",
       "      <td>112.4</td>\n",
       "      <td>78.32</td>\n",
       "      <td>19.208672</td>\n",
       "    </tr>\n",
       "  </tbody>\n",
       "</table>\n",
       "</div>"
      ],
      "text/plain": [
       "   Severe COVID Case Complications  covid_cases  % Adults 65 and Older  \\\n",
       "0                        51.721197         9012                 15.973   \n",
       "1                        39.964354        34063                 20.978   \n",
       "2                        71.258434         3184                 19.691   \n",
       "3                        59.971356         3628                 16.670   \n",
       "4                        56.204965         8862                 18.701   \n",
       "\n",
       "   % Diagnosed Diabetes  % Adults with Obesity  Heart Disease Death Rate  \\\n",
       "0                  11.4                   32.7                     388.7   \n",
       "1                   8.2                   30.1                     362.6   \n",
       "2                  15.1                   41.2                     444.3   \n",
       "3                  12.2                   37.4                     491.8   \n",
       "4                  12.2                   32.5                     437.9   \n",
       "\n",
       "   Hypertension Death Rate  COPD Mortality Rate  % Smokers  \n",
       "0                    179.6                73.41  18.081557  \n",
       "1                    143.4                45.27  17.489033  \n",
       "2                    217.2                60.07  21.999985  \n",
       "3                    143.3                75.08  19.114200  \n",
       "4                    112.4                78.32  19.208672  "
      ]
     },
     "execution_count": 7,
     "metadata": {},
     "output_type": "execute_result"
    }
   ],
   "source": [
    "df = df.drop(columns=['Unnamed: 0', 'FIPS', 'State', 'County'])\n",
    "df.head()"
   ]
  },
  {
   "cell_type": "code",
   "execution_count": 8,
   "id": "924ac97c",
   "metadata": {},
   "outputs": [
    {
     "name": "stdout",
     "output_type": "stream",
     "text": [
      "<class 'pandas.core.frame.DataFrame'>\n",
      "RangeIndex: 3142 entries, 0 to 3141\n",
      "Data columns (total 9 columns):\n",
      " #   Column                           Non-Null Count  Dtype  \n",
      "---  ------                           --------------  -----  \n",
      " 0   Severe COVID Case Complications  3142 non-null   float64\n",
      " 1   covid_cases                      3142 non-null   int64  \n",
      " 2   % Adults 65 and Older            3142 non-null   float64\n",
      " 3   % Diagnosed Diabetes             3142 non-null   float64\n",
      " 4   % Adults with Obesity            3142 non-null   float64\n",
      " 5   Heart Disease Death Rate         3142 non-null   float64\n",
      " 6   Hypertension Death Rate          3142 non-null   float64\n",
      " 7   COPD Mortality Rate              3142 non-null   float64\n",
      " 8   % Smokers                        3142 non-null   float64\n",
      "dtypes: float64(8), int64(1)\n",
      "memory usage: 221.0 KB\n"
     ]
    }
   ],
   "source": [
    "df.info()"
   ]
  },
  {
   "cell_type": "code",
   "execution_count": 9,
   "id": "5e295d09",
   "metadata": {},
   "outputs": [
    {
     "data": {
      "image/png": "[encoded data removed]",
      "text/plain": [
       "<Figure size 432x288 with 2 Axes>"
      ]
     },
     "metadata": {
      "needs_background": "light"
     },
     "output_type": "display_data"
    }
   ],
   "source": [
    "plt.figure()\n",
    "sns.heatmap(df.corr(),cmap='coolwarm')\n",
    "plt.show()"
   ]
  },
  {
   "cell_type": "code",
   "execution_count": 10,
   "id": "7a170607",
   "metadata": {},
   "outputs": [],
   "source": [
    "X = df.drop(columns=['Severe COVID Case Complications'])\n",
    "y = df[['Severe COVID Case Complications']]"
   ]
  },
  {
   "cell_type": "code",
   "execution_count": 11,
   "id": "7ce8737b",
   "metadata": {},
   "outputs": [],
   "source": [
    "from sklearn.model_selection import train_test_split\n",
    "X_train, X_test, y_train, y_test = train_test_split(X, y, random_state=42, test_size=0.2)"
   ]
  },
  {
   "cell_type": "code",
   "execution_count": 12,
   "id": "babd897d",
   "metadata": {},
   "outputs": [],
   "source": [
    "from sklearn.linear_model import LinearRegression\n",
    "lr = LinearRegression().fit(X_train, y_train)\n"
   ]
  },
  {
   "cell_type": "code",
   "execution_count": 13,
   "id": "b2de0301",
   "metadata": {},
   "outputs": [
    {
     "data": {
      "text/html": [
       "<style>#sk-container-id-1 {color: black;background-color: white;}#sk-container-id-1 pre{padding: 0;}#sk-container-id-1 div.sk-toggleable {background-color: white;}#sk-container-id-1 label.sk-toggleable__label {cursor: pointer;display: block;width: 100%;margin-bottom: 0;padding: 0.3em;box-sizing: border-box;text-align: center;}#sk-container-id-1 label.sk-toggleable__label-arrow:before {content: \"▸\";float: left;margin-right: 0.25em;color: #696969;}#sk-container-id-1 label.sk-toggleable__label-arrow:hover:before {color: black;}#sk-container-id-1 div.sk-estimator:hover label.sk-toggleable__label-arrow:before {color: black;}#sk-container-id-1 div.sk-toggleable__content {max-height: 0;max-width: 0;overflow: hidden;text-align: left;background-color: #f0f8ff;}#sk-container-id-1 div.sk-toggleable__content pre {margin: 0.2em;color: black;border-radius: 0.25em;background-color: #f0f8ff;}#sk-container-id-1 input.sk-toggleable__control:checked~div.sk-toggleable__content {max-height: 200px;max-width: 100%;overflow: auto;}#sk-container-id-1 input.sk-toggleable__control:checked~label.sk-toggleable__label-arrow:before {content: \"▾\";}#sk-container-id-1 div.sk-estimator input.sk-toggleable__control:checked~label.sk-toggleable__label {background-color: #d4ebff;}#sk-container-id-1 div.sk-label input.sk-toggleable__control:checked~label.sk-toggleable__label {background-color: #d4ebff;}#sk-container-id-1 input.sk-hidden--visually {border: 0;clip: rect(1px 1px 1px 1px);clip: rect(1px, 1px, 1px, 1px);height: 1px;margin: -1px;overflow: hidden;padding: 0;position: absolute;width: 1px;}#sk-container-id-1 div.sk-estimator {font-family: monospace;background-color: #f0f8ff;border: 1px dotted black;border-radius: 0.25em;box-sizing: border-box;margin-bottom: 0.5em;}#sk-container-id-1 div.sk-estimator:hover {background-color: #d4ebff;}#sk-container-id-1 div.sk-parallel-item::after {content: \"\";width: 100%;border-bottom: 1px solid gray;flex-grow: 1;}#sk-container-id-1 div.sk-label:hover label.sk-toggleable__label {background-color: #d4ebff;}#sk-container-id-1 div.sk-serial::before {content: \"\";position: absolute;border-left: 1px solid gray;box-sizing: border-box;top: 0;bottom: 0;left: 50%;z-index: 0;}#sk-container-id-1 div.sk-serial {display: flex;flex-direction: column;align-items: center;background-color: white;padding-right: 0.2em;padding-left: 0.2em;position: relative;}#sk-container-id-1 div.sk-item {position: relative;z-index: 1;}#sk-container-id-1 div.sk-parallel {display: flex;align-items: stretch;justify-content: center;background-color: white;position: relative;}#sk-container-id-1 div.sk-item::before, #sk-container-id-1 div.sk-parallel-item::before {content: \"\";position: absolute;border-left: 1px solid gray;box-sizing: border-box;top: 0;bottom: 0;left: 50%;z-index: -1;}#sk-container-id-1 div.sk-parallel-item {display: flex;flex-direction: column;z-index: 1;position: relative;background-color: white;}#sk-container-id-1 div.sk-parallel-item:first-child::after {align-self: flex-end;width: 50%;}#sk-container-id-1 div.sk-parallel-item:last-child::after {align-self: flex-start;width: 50%;}#sk-container-id-1 div.sk-parallel-item:only-child::after {width: 0;}#sk-container-id-1 div.sk-dashed-wrapped {border: 1px dashed gray;margin: 0 0.4em 0.5em 0.4em;box-sizing: border-box;padding-bottom: 0.4em;background-color: white;}#sk-container-id-1 div.sk-label label {font-family: monospace;font-weight: bold;display: inline-block;line-height: 1.2em;}#sk-container-id-1 div.sk-label-container {text-align: center;}#sk-container-id-1 div.sk-container {/* jupyter's `normalize.less` sets `[hidden] { display: none; }` but bootstrap.min.css set `[hidden] { display: none !important; }` so we also need the `!important` here to be able to override the default hidden behavior on the sphinx rendered scikit-learn.org. See: https://github.com/scikit-learn/scikit-learn/issues/21755 */display: inline-block !important;position: relative;}#sk-container-id-1 div.sk-text-repr-fallback {display: none;}</style><div id=\"sk-container-id-1\" class=\"sk-top-container\"><div class=\"sk-text-repr-fallback\"><pre>LinearRegression()</pre><b>In a Jupyter environment, please rerun this cell to show the HTML representation or trust the notebook. <br />On GitHub, the HTML representation is unable to render, please try loading this page with nbviewer.org.</b></div><div class=\"sk-container\" hidden><div class=\"sk-item\"><div class=\"sk-estimator sk-toggleable\"><input class=\"sk-toggleable__control sk-hidden--visually\" id=\"sk-estimator-id-1\" type=\"checkbox\" checked><label for=\"sk-estimator-id-1\" class=\"sk-toggleable__label sk-toggleable__label-arrow\">LinearRegression</label><div class=\"sk-toggleable__content\"><pre>LinearRegression()</pre></div></div></div></div></div>"
      ],
      "text/plain": [
       "LinearRegression()"
      ]
     },
     "execution_count": 13,
     "metadata": {},
     "output_type": "execute_result"
    }
   ],
   "source": [
    "lr"
   ]
  },
  {
   "cell_type": "code",
   "execution_count": 14,
   "id": "f4a00ca1",
   "metadata": {},
   "outputs": [],
   "source": [
    "y_pred = lr.predict(X_test)\n",
    "#y_pred"
   ]
  },
  {
   "cell_type": "code",
   "execution_count": 15,
   "id": "c6f1337d",
   "metadata": {},
   "outputs": [
    {
     "data": {
      "text/plain": [
       "0.933959426176047"
      ]
     },
     "execution_count": 15,
     "metadata": {},
     "output_type": "execute_result"
    }
   ],
   "source": [
    "from sklearn.metrics import r2_score, mean_squared_error\n",
    "r2_score(y_test, y_pred)\n",
    "#mean_squared_error(y_test, y_pred)"
   ]
  },
  {
   "cell_type": "code",
   "execution_count": 16,
   "id": "f3c7e05c",
   "metadata": {},
   "outputs": [],
   "source": [
    "from sklearn.metrics import mean_absolute_error, mean_squared_error, r2_score\n",
    "\n",
    "def evaluate_regression_model(y_test, y_pred):\n",
    "\n",
    "    mae = mean_absolute_error(y_test, y_pred)\n",
    "    mse = mean_squared_error(y_test, y_pred)\n",
    "    r2 = r2_score(y_test, y_pred)\n",
    "\n",
    "    return mae, mse, r2\n"
   ]
  },
  {
   "cell_type": "code",
   "execution_count": 17,
   "id": "459f568d",
   "metadata": {},
   "outputs": [],
   "source": [
    "mae, mse, r2 = evaluate_regression_model(y_test, y_pred)"
   ]
  },
  {
   "cell_type": "code",
   "execution_count": 18,
   "id": "bc96cb0f",
   "metadata": {},
   "outputs": [
    {
     "data": {
      "text/plain": [
       "3.0985485643397075"
      ]
     },
     "execution_count": 18,
     "metadata": {},
     "output_type": "execute_result"
    }
   ],
   "source": [
    "mae"
   ]
  },
  {
   "cell_type": "code",
   "execution_count": 19,
   "id": "a0629a26",
   "metadata": {},
   "outputs": [
    {
     "data": {
      "text/plain": [
       "17.862331781659414"
      ]
     },
     "execution_count": 19,
     "metadata": {},
     "output_type": "execute_result"
    }
   ],
   "source": [
    "mse"
   ]
  },
  {
   "cell_type": "code",
   "execution_count": 20,
   "id": "3781cb3b",
   "metadata": {},
   "outputs": [
    {
     "data": {
      "text/plain": [
       "0.933959426176047"
      ]
     },
     "execution_count": 20,
     "metadata": {},
     "output_type": "execute_result"
    }
   ],
   "source": [
    "r2"
   ]
  },
  {
   "cell_type": "markdown",
   "id": "8924099c",
   "metadata": {},
   "source": [
    "These are evaluation metrics for a regression model. Here's what they mean:\n",
    "\n",
    "MAE (Mean Absolute Error) - This is the average absolute difference between the predicted and actual values. In other words, it gives you an idea of how far off your predictions are on average. A lower MAE is better, and a MAE of 3.098 means that on average, the model's predictions are off by about 3.1 units.\n",
    "\n",
    "MSE (Mean Squared Error) - This is the average of the squared differences between the predicted and actual values. Squaring the differences gives more weight to larger errors. A lower MSE is better, and a MSE of 17.862 means that the model's predictions are off by about 17.9 units (on average, squared).\n",
    "\n",
    "R2 (R-Squared) - This is a measure of how well the model fits the data. It represents the proportion of variance in the dependent variable that is explained by the independent variables. An R2 of 0.93 means that about 93% of the variance in the dependent variable is explained by the independent variables in the model. A higher R2 is better, and a perfect fit would have an R2 of 1.0.\n",
    "\n",
    "Overall, these metrics suggest that the regression model has a good fit to the data and is making accurate predictions, with a relatively small average error (MAE) and a high proportion of variance explained (R2)."
   ]
  },
  {
   "cell_type": "code",
   "execution_count": 21,
   "id": "a32ff680",
   "metadata": {},
   "outputs": [],
   "source": [
    "significant = lr.coef_[0]"
   ]
  },
  {
   "cell_type": "code",
   "execution_count": 22,
   "id": "f0354cfd",
   "metadata": {},
   "outputs": [
    {
     "data": {
      "text/plain": [
       "<BarContainer object of 8 artists>"
      ]
     },
     "execution_count": 22,
     "metadata": {},
     "output_type": "execute_result"
    },
    {
     "data": {
      "image/png": "[encoded data removed]",
      "text/plain": [
       "<Figure size 432x288 with 1 Axes>"
      ]
     },
     "metadata": {
      "needs_background": "light"
     },
     "output_type": "display_data"
    }
   ],
   "source": [
    "plt.bar([x for x in range(len(significant))], significant)"
   ]
  },
  {
   "cell_type": "code",
   "execution_count": 23,
   "id": "6ef757e5",
   "metadata": {},
   "outputs": [
    {
     "name": "stdout",
     "output_type": "stream",
     "text": [
      "Feature: 0, Score: 0.00000\n",
      "Feature: 1, Score: 0.77340\n",
      "Feature: 2, Score: 1.30650\n",
      "Feature: 3, Score: 0.83821\n",
      "Feature: 4, Score: 0.04575\n",
      "Feature: 5, Score: 0.03926\n",
      "Feature: 6, Score: 0.23388\n",
      "Feature: 7, Score: 0.35681\n"
     ]
    }
   ],
   "source": [
    "for i,v in enumerate(significant):\n",
    "    print('Feature: %0d, Score: %.5f' % (i,v))"
   ]
  }
 ],
 "metadata": {
  "kernelspec": {
   "display_name": "Python 3 (ipykernel)",
   "language": "python",
   "name": "python3"
  },
  "language_info": {
   "codemirror_mode": {
    "name": "ipython",
    "version": 3
   },
   "file_extension": ".py",
   "mimetype": "text/x-python",
   "name": "python",
   "nbconvert_exporter": "python",
   "pygments_lexer": "ipython3",
   "version": "3.9.7"
  }
 },
 "nbformat": 4,
 "nbformat_minor": 5
}
